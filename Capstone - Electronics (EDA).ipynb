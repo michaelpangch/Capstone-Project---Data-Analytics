{
 "cells": [
  {
   "cell_type": "markdown",
   "metadata": {
    "heading_collapsed": true
   },
   "source": [
    "# Libraries and the usual"
   ]
  },
  {
   "cell_type": "code",
   "execution_count": 1,
   "metadata": {
    "ExecuteTime": {
     "end_time": "2020-12-29T08:34:18.265766Z",
     "start_time": "2020-12-29T08:34:17.830184Z"
    },
    "hidden": true
   },
   "outputs": [
    {
     "name": "stdout",
     "output_type": "stream",
     "text": [
      "\u001b[0;30;43m\u001b[1mPrintout like these are part of the author's narrative\u001b[0m\u001b[0m\n"
     ]
    },
    {
     "data": {
      "text/html": [
       "<style>.container { width:95% !important; }</style>"
      ],
      "text/plain": [
       "<IPython.core.display.HTML object>"
      ]
     },
     "metadata": {},
     "output_type": "display_data"
    }
   ],
   "source": [
    "import pandas as pd\n",
    "import numpy as np\n",
    "import datetime\n",
    "\n",
    "#bold font and set font color for easier readibility\n",
    "def printf(message, newLine = True):\n",
    "    out = '\\x1b[0;30;43m' + '\\033[1m' + message + '\\033[0m' + '\\x1b[0m'\n",
    "    print(out) if newLine else print(out, end='')\n",
    "    \n",
    "printf(\"Printout like these are part of the author's narrative\")\n",
    "\n",
    "#dynamically resize notebook width to screensize for easier visibility in presentation\n",
    "#RUN THIS BEFORE PRESENTATION\n",
    "from IPython.core.display import display, HTML\n",
    "display(HTML(\"<style>.container { width:95% !important; }</style>\"))\n",
    "\n",
    "pd.options.display.float_format = '{:,.3f}'.format"
   ]
  },
  {
   "cell_type": "code",
   "execution_count": 2,
   "metadata": {
    "ExecuteTime": {
     "end_time": "2020-12-29T08:34:18.486206Z",
     "start_time": "2020-12-29T08:34:18.269756Z"
    },
    "hidden": true,
    "scrolled": true
   },
   "outputs": [
    {
     "name": "stdout",
     "output_type": "stream",
     "text": [
      "\u001b[0;30;43m\u001b[1m\n",
      "Sample top 5 rows of data :\n",
      "\u001b[0m\u001b[0m\n"
     ]
    },
    {
     "data": {
      "text/html": [
       "<div>\n",
       "<style scoped>\n",
       "    .dataframe tbody tr th:only-of-type {\n",
       "        vertical-align: middle;\n",
       "    }\n",
       "\n",
       "    .dataframe tbody tr th {\n",
       "        vertical-align: top;\n",
       "    }\n",
       "\n",
       "    .dataframe thead th {\n",
       "        text-align: right;\n",
       "    }\n",
       "</style>\n",
       "<table border=\"1\" class=\"dataframe\">\n",
       "  <thead>\n",
       "    <tr style=\"text-align: right;\">\n",
       "      <th></th>\n",
       "      <th>id</th>\n",
       "      <th>prices_merchant</th>\n",
       "      <th>brand</th>\n",
       "      <th>categories</th>\n",
       "      <th>name</th>\n",
       "      <th>primarycategories</th>\n",
       "      <th>shipping_provided</th>\n",
       "      <th>shipping_free</th>\n",
       "      <th>shipping_charges</th>\n",
       "      <th>weight_grams</th>\n",
       "      <th>date</th>\n",
       "      <th>est_price</th>\n",
       "      <th>depreciation</th>\n",
       "      <th>month</th>\n",
       "      <th>year</th>\n",
       "    </tr>\n",
       "  </thead>\n",
       "  <tbody>\n",
       "    <tr>\n",
       "      <th>0</th>\n",
       "      <td>AVphzgbJLJeJML43fA0o</td>\n",
       "      <td>bestbuy.com</td>\n",
       "      <td>Sanus</td>\n",
       "      <td>Audio &amp; Video Accessories,TV Mounts,TV Accesso...</td>\n",
       "      <td>Sanus VLF410B1 10-Inch Super Slim Full-Motion ...</td>\n",
       "      <td>Electronics</td>\n",
       "      <td>0</td>\n",
       "      <td>0</td>\n",
       "      <td>0.000</td>\n",
       "      <td>14,877.820</td>\n",
       "      <td>2017-03-03</td>\n",
       "      <td>104.990</td>\n",
       "      <td>0.000</td>\n",
       "      <td>3</td>\n",
       "      <td>2017</td>\n",
       "    </tr>\n",
       "    <tr>\n",
       "      <th>1</th>\n",
       "      <td>AVphzgbJLJeJML43fA0o</td>\n",
       "      <td>bestbuy.com</td>\n",
       "      <td>Sanus</td>\n",
       "      <td>Audio &amp; Video Accessories,TV Mounts,TV Accesso...</td>\n",
       "      <td>Sanus VLF410B1 10-Inch Super Slim Full-Motion ...</td>\n",
       "      <td>Electronics</td>\n",
       "      <td>0</td>\n",
       "      <td>0</td>\n",
       "      <td>0.000</td>\n",
       "      <td>14,877.820</td>\n",
       "      <td>2017-03-04</td>\n",
       "      <td>104.990</td>\n",
       "      <td>0.000</td>\n",
       "      <td>3</td>\n",
       "      <td>2017</td>\n",
       "    </tr>\n",
       "    <tr>\n",
       "      <th>2</th>\n",
       "      <td>AVphzgbJLJeJML43fA0o</td>\n",
       "      <td>bestbuy.com</td>\n",
       "      <td>Sanus</td>\n",
       "      <td>Audio &amp; Video Accessories,TV Mounts,TV Accesso...</td>\n",
       "      <td>Sanus VLF410B1 10-Inch Super Slim Full-Motion ...</td>\n",
       "      <td>Electronics</td>\n",
       "      <td>0</td>\n",
       "      <td>0</td>\n",
       "      <td>0.000</td>\n",
       "      <td>14,877.820</td>\n",
       "      <td>2017-03-10</td>\n",
       "      <td>104.990</td>\n",
       "      <td>0.000</td>\n",
       "      <td>3</td>\n",
       "      <td>2017</td>\n",
       "    </tr>\n",
       "    <tr>\n",
       "      <th>3</th>\n",
       "      <td>AVphzgbJLJeJML43fA0o</td>\n",
       "      <td>bestbuy.com</td>\n",
       "      <td>Sanus</td>\n",
       "      <td>Audio &amp; Video Accessories,TV Mounts,TV Accesso...</td>\n",
       "      <td>Sanus VLF410B1 10-Inch Super Slim Full-Motion ...</td>\n",
       "      <td>Electronics</td>\n",
       "      <td>0</td>\n",
       "      <td>0</td>\n",
       "      <td>0.000</td>\n",
       "      <td>14,877.820</td>\n",
       "      <td>2017-03-30</td>\n",
       "      <td>104.990</td>\n",
       "      <td>0.000</td>\n",
       "      <td>3</td>\n",
       "      <td>2017</td>\n",
       "    </tr>\n",
       "    <tr>\n",
       "      <th>4</th>\n",
       "      <td>AVpgMuGwLJeJML43KY_c</td>\n",
       "      <td>walmart.com</td>\n",
       "      <td>Boytone</td>\n",
       "      <td>Stereos,Portable Bluetooth Speakers,TV, Video ...</td>\n",
       "      <td>Boytone - 2500W 2.1-Ch. Home Theater System - ...</td>\n",
       "      <td>Electronics</td>\n",
       "      <td>1</td>\n",
       "      <td>1</td>\n",
       "      <td>0.000</td>\n",
       "      <td>6,350.290</td>\n",
       "      <td>2017-12-14</td>\n",
       "      <td>66.995</td>\n",
       "      <td>0.000</td>\n",
       "      <td>12</td>\n",
       "      <td>2017</td>\n",
       "    </tr>\n",
       "  </tbody>\n",
       "</table>\n",
       "</div>"
      ],
      "text/plain": [
       "                     id prices_merchant    brand  \\\n",
       "0  AVphzgbJLJeJML43fA0o     bestbuy.com    Sanus   \n",
       "1  AVphzgbJLJeJML43fA0o     bestbuy.com    Sanus   \n",
       "2  AVphzgbJLJeJML43fA0o     bestbuy.com    Sanus   \n",
       "3  AVphzgbJLJeJML43fA0o     bestbuy.com    Sanus   \n",
       "4  AVpgMuGwLJeJML43KY_c     walmart.com  Boytone   \n",
       "\n",
       "                                          categories  \\\n",
       "0  Audio & Video Accessories,TV Mounts,TV Accesso...   \n",
       "1  Audio & Video Accessories,TV Mounts,TV Accesso...   \n",
       "2  Audio & Video Accessories,TV Mounts,TV Accesso...   \n",
       "3  Audio & Video Accessories,TV Mounts,TV Accesso...   \n",
       "4  Stereos,Portable Bluetooth Speakers,TV, Video ...   \n",
       "\n",
       "                                                name primarycategories  \\\n",
       "0  Sanus VLF410B1 10-Inch Super Slim Full-Motion ...       Electronics   \n",
       "1  Sanus VLF410B1 10-Inch Super Slim Full-Motion ...       Electronics   \n",
       "2  Sanus VLF410B1 10-Inch Super Slim Full-Motion ...       Electronics   \n",
       "3  Sanus VLF410B1 10-Inch Super Slim Full-Motion ...       Electronics   \n",
       "4  Boytone - 2500W 2.1-Ch. Home Theater System - ...       Electronics   \n",
       "\n",
       "   shipping_provided  shipping_free  shipping_charges  weight_grams  \\\n",
       "0                  0              0             0.000    14,877.820   \n",
       "1                  0              0             0.000    14,877.820   \n",
       "2                  0              0             0.000    14,877.820   \n",
       "3                  0              0             0.000    14,877.820   \n",
       "4                  1              1             0.000     6,350.290   \n",
       "\n",
       "        date  est_price  depreciation  month  year  \n",
       "0 2017-03-03    104.990         0.000      3  2017  \n",
       "1 2017-03-04    104.990         0.000      3  2017  \n",
       "2 2017-03-10    104.990         0.000      3  2017  \n",
       "3 2017-03-30    104.990         0.000      3  2017  \n",
       "4 2017-12-14     66.995         0.000     12  2017  "
      ]
     },
     "execution_count": 2,
     "metadata": {},
     "output_type": "execute_result"
    }
   ],
   "source": [
    "#load data file\n",
    "df = pd.read_csv('Data\\electronics_processed.csv', encoding = \"ISO-8859-1\")\n",
    "df['date'] = pd.to_datetime(df.date)\n",
    "printf(\"\\nSample top 5 rows of data :\\n\")\n",
    "df.head()"
   ]
  },
  {
   "cell_type": "markdown",
   "metadata": {
    "heading_collapsed": true
   },
   "source": [
    "# Statistics"
   ]
  },
  {
   "cell_type": "code",
   "execution_count": 3,
   "metadata": {
    "ExecuteTime": {
     "end_time": "2020-12-29T08:34:18.516570Z",
     "start_time": "2020-12-29T08:34:18.489170Z"
    },
    "hidden": true
   },
   "outputs": [
    {
     "name": "stdout",
     "output_type": "stream",
     "text": [
      "\u001b[0;30;43m\u001b[1mNote the relationship between estimated price and weight\u001b[0m\u001b[0m\n"
     ]
    },
    {
     "data": {
      "text/html": [
       "<div>\n",
       "<style scoped>\n",
       "    .dataframe tbody tr th:only-of-type {\n",
       "        vertical-align: middle;\n",
       "    }\n",
       "\n",
       "    .dataframe tbody tr th {\n",
       "        vertical-align: top;\n",
       "    }\n",
       "\n",
       "    .dataframe thead th {\n",
       "        text-align: right;\n",
       "    }\n",
       "</style>\n",
       "<table border=\"1\" class=\"dataframe\">\n",
       "  <thead>\n",
       "    <tr style=\"text-align: right;\">\n",
       "      <th></th>\n",
       "      <th>shipping_provided</th>\n",
       "      <th>shipping_free</th>\n",
       "      <th>shipping_charges</th>\n",
       "      <th>weight_grams</th>\n",
       "      <th>est_price</th>\n",
       "      <th>depreciation</th>\n",
       "      <th>month</th>\n",
       "      <th>year</th>\n",
       "    </tr>\n",
       "  </thead>\n",
       "  <tbody>\n",
       "    <tr>\n",
       "      <th>shipping_provided</th>\n",
       "      <td>1.000</td>\n",
       "      <td>0.989</td>\n",
       "      <td>0.037</td>\n",
       "      <td>0.121</td>\n",
       "      <td>0.134</td>\n",
       "      <td>0.055</td>\n",
       "      <td>0.256</td>\n",
       "      <td>0.224</td>\n",
       "    </tr>\n",
       "    <tr>\n",
       "      <th>shipping_free</th>\n",
       "      <td>0.989</td>\n",
       "      <td>1.000</td>\n",
       "      <td>-0.037</td>\n",
       "      <td>0.123</td>\n",
       "      <td>0.137</td>\n",
       "      <td>0.056</td>\n",
       "      <td>0.256</td>\n",
       "      <td>0.225</td>\n",
       "    </tr>\n",
       "    <tr>\n",
       "      <th>shipping_charges</th>\n",
       "      <td>0.037</td>\n",
       "      <td>-0.037</td>\n",
       "      <td>1.000</td>\n",
       "      <td>0.042</td>\n",
       "      <td>0.020</td>\n",
       "      <td>-0.002</td>\n",
       "      <td>0.000</td>\n",
       "      <td>-0.007</td>\n",
       "    </tr>\n",
       "    <tr>\n",
       "      <th>weight_grams</th>\n",
       "      <td>0.121</td>\n",
       "      <td>0.123</td>\n",
       "      <td>0.042</td>\n",
       "      <td>1.000</td>\n",
       "      <td>0.467</td>\n",
       "      <td>0.118</td>\n",
       "      <td>-0.004</td>\n",
       "      <td>0.026</td>\n",
       "    </tr>\n",
       "    <tr>\n",
       "      <th>est_price</th>\n",
       "      <td>0.134</td>\n",
       "      <td>0.137</td>\n",
       "      <td>0.020</td>\n",
       "      <td>0.467</td>\n",
       "      <td>1.000</td>\n",
       "      <td>0.188</td>\n",
       "      <td>-0.001</td>\n",
       "      <td>0.050</td>\n",
       "    </tr>\n",
       "    <tr>\n",
       "      <th>depreciation</th>\n",
       "      <td>0.055</td>\n",
       "      <td>0.056</td>\n",
       "      <td>-0.002</td>\n",
       "      <td>0.118</td>\n",
       "      <td>0.188</td>\n",
       "      <td>1.000</td>\n",
       "      <td>0.007</td>\n",
       "      <td>0.049</td>\n",
       "    </tr>\n",
       "    <tr>\n",
       "      <th>month</th>\n",
       "      <td>0.256</td>\n",
       "      <td>0.256</td>\n",
       "      <td>0.000</td>\n",
       "      <td>-0.004</td>\n",
       "      <td>-0.001</td>\n",
       "      <td>0.007</td>\n",
       "      <td>1.000</td>\n",
       "      <td>-0.442</td>\n",
       "    </tr>\n",
       "    <tr>\n",
       "      <th>year</th>\n",
       "      <td>0.224</td>\n",
       "      <td>0.225</td>\n",
       "      <td>-0.007</td>\n",
       "      <td>0.026</td>\n",
       "      <td>0.050</td>\n",
       "      <td>0.049</td>\n",
       "      <td>-0.442</td>\n",
       "      <td>1.000</td>\n",
       "    </tr>\n",
       "  </tbody>\n",
       "</table>\n",
       "</div>"
      ],
      "text/plain": [
       "                   shipping_provided  shipping_free  shipping_charges  \\\n",
       "shipping_provided              1.000          0.989             0.037   \n",
       "shipping_free                  0.989          1.000            -0.037   \n",
       "shipping_charges               0.037         -0.037             1.000   \n",
       "weight_grams                   0.121          0.123             0.042   \n",
       "est_price                      0.134          0.137             0.020   \n",
       "depreciation                   0.055          0.056            -0.002   \n",
       "month                          0.256          0.256             0.000   \n",
       "year                           0.224          0.225            -0.007   \n",
       "\n",
       "                   weight_grams  est_price  depreciation  month   year  \n",
       "shipping_provided         0.121      0.134         0.055  0.256  0.224  \n",
       "shipping_free             0.123      0.137         0.056  0.256  0.225  \n",
       "shipping_charges          0.042      0.020        -0.002  0.000 -0.007  \n",
       "weight_grams              1.000      0.467         0.118 -0.004  0.026  \n",
       "est_price                 0.467      1.000         0.188 -0.001  0.050  \n",
       "depreciation              0.118      0.188         1.000  0.007  0.049  \n",
       "month                    -0.004     -0.001         0.007  1.000 -0.442  \n",
       "year                      0.026      0.050         0.049 -0.442  1.000  "
      ]
     },
     "execution_count": 3,
     "metadata": {},
     "output_type": "execute_result"
    }
   ],
   "source": [
    "printf(\"Note the relationship between estimated price and weight\")\n",
    "df.corr()"
   ]
  },
  {
   "cell_type": "code",
   "execution_count": 4,
   "metadata": {
    "ExecuteTime": {
     "end_time": "2020-12-29T08:34:27.571531Z",
     "start_time": "2020-12-29T08:34:18.519088Z"
    },
    "hidden": true
   },
   "outputs": [
    {
     "name": "stdout",
     "output_type": "stream",
     "text": [
      "\u001b[0;30;43m\u001b[1mNot much insight can be gleaned here\u001b[0m\u001b[0m\n"
     ]
    },
    {
     "data": {
      "image/png": "[encoded data removed]",
      "text/plain": [
       "<Figure size 1440x1440 with 72 Axes>"
      ]
     },
     "metadata": {
      "needs_background": "light"
     },
     "output_type": "display_data"
    }
   ],
   "source": [
    "import seaborn as sns\n",
    "printf(\"Not much insight can be gleaned here\")\n",
    "sns.pairplot(df);"
   ]
  },
  {
   "cell_type": "markdown",
   "metadata": {},
   "source": [
    "# Exploratory Data Analysis"
   ]
  },
  {
   "cell_type": "markdown",
   "metadata": {
    "heading_collapsed": true
   },
   "source": [
    "## Top merchants"
   ]
  },
  {
   "cell_type": "code",
   "execution_count": 5,
   "metadata": {
    "ExecuteTime": {
     "end_time": "2020-12-29T08:34:27.634379Z",
     "start_time": "2020-12-29T08:34:27.572495Z"
    },
    "hidden": true
   },
   "outputs": [],
   "source": [
    "#shorten merchants names for easier visualisation\n",
    "df.prices_merchant = df.prices_merchant.str.replace(\"bestbuy.com\", \"bestbuy\")\n",
    "df.prices_merchant = df.prices_merchant.str.replace(\"bhphotovideo.com\", \"bhp\")\n",
    "df.prices_merchant = df.prices_merchant.str.replace(\"walmart.com\", \"walmart\")"
   ]
  },
  {
   "cell_type": "code",
   "execution_count": 6,
   "metadata": {
    "ExecuteTime": {
     "end_time": "2020-12-29T08:34:27.666248Z",
     "start_time": "2020-12-29T08:34:27.636361Z"
    },
    "hidden": true
   },
   "outputs": [
    {
     "name": "stdout",
     "output_type": "stream",
     "text": [
      "\u001b[0;30;43m\u001b[1mTop merchants by items\u001b[0m\u001b[0m\n"
     ]
    },
    {
     "data": {
      "text/plain": [
       "prices_merchant\n",
       "bestbuy    10796\n",
       "bhp         6068\n",
       "others      4044\n",
       "walmart     1278\n",
       "Name: id, dtype: int64"
      ]
     },
     "execution_count": 6,
     "metadata": {},
     "output_type": "execute_result"
    }
   ],
   "source": [
    "topByItems = df.groupby('prices_merchant')['id'].count().sort_values(ascending=False)\n",
    "topByItems.to_csv(r\"Data\\r1c1 - MerchantsItems.csv\")\n",
    "\n",
    "printf(\"Top merchants by items\")\n",
    "topByItems"
   ]
  },
  {
   "cell_type": "code",
   "execution_count": 7,
   "metadata": {
    "ExecuteTime": {
     "end_time": "2020-12-29T08:34:27.793902Z",
     "start_time": "2020-12-29T08:34:27.668239Z"
    },
    "hidden": true
   },
   "outputs": [
    {
     "name": "stdout",
     "output_type": "stream",
     "text": [
      "\u001b[0;30;43m\u001b[1mTop merchants by value\u001b[0m\u001b[0m\n"
     ]
    },
    {
     "data": {
      "text/plain": [
       "prices_merchant\n",
       "bestbuy   4,251,508.020\n",
       "bhp       3,031,453.960\n",
       "others    2,538,939.780\n",
       "walmart     606,192.603\n",
       "Name: est_price, dtype: float64"
      ]
     },
     "execution_count": 7,
     "metadata": {},
     "output_type": "execute_result"
    }
   ],
   "source": [
    "topByValue = df.groupby('prices_merchant')['est_price'].sum().sort_values(ascending=False)\n",
    "topByValue.to_csv(r'Data\\r1c2 - MerchantsValue.csv')\n",
    "\n",
    "printf(\"Top merchants by value\")\n",
    "topByValue"
   ]
  },
  {
   "cell_type": "markdown",
   "metadata": {
    "heading_collapsed": true
   },
   "source": [
    "## Items sold with shipping"
   ]
  },
  {
   "cell_type": "code",
   "execution_count": 8,
   "metadata": {
    "ExecuteTime": {
     "end_time": "2020-12-29T08:34:27.809836Z",
     "start_time": "2020-12-29T08:34:27.797892Z"
    },
    "hidden": true
   },
   "outputs": [],
   "source": [
    "#replace encoding for easier data visualisation\n",
    "df.shipping_provided = df.shipping_provided.replace(0, \"no\")\n",
    "df.shipping_provided = df.shipping_provided.replace(1, \"yes\")"
   ]
  },
  {
   "cell_type": "code",
   "execution_count": 9,
   "metadata": {
    "ExecuteTime": {
     "end_time": "2020-12-29T08:34:27.840396Z",
     "start_time": "2020-12-29T08:34:27.812829Z"
    },
    "hidden": true
   },
   "outputs": [
    {
     "name": "stdout",
     "output_type": "stream",
     "text": [
      "\u001b[0;30;43m\u001b[1mNumber of items sold with / without shipping specified\u001b[0m\u001b[0m\n"
     ]
    },
    {
     "data": {
      "text/plain": [
       "shipping_provided\n",
       "no     10998\n",
       "yes    11188\n",
       "Name: id, dtype: int64"
      ]
     },
     "execution_count": 9,
     "metadata": {},
     "output_type": "execute_result"
    }
   ],
   "source": [
    "shippingItems = df.groupby('shipping_provided')['id'].count()\n",
    "shippingItems.to_csv(r'Data\\r5c1 - ShippingItems.csv')\n",
    "\n",
    "printf(\"Number of items sold with / without shipping specified\")\n",
    "shippingItems"
   ]
  },
  {
   "cell_type": "code",
   "execution_count": 10,
   "metadata": {
    "ExecuteTime": {
     "end_time": "2020-12-29T08:34:27.856354Z",
     "start_time": "2020-12-29T08:34:27.842396Z"
    },
    "hidden": true
   },
   "outputs": [
    {
     "name": "stdout",
     "output_type": "stream",
     "text": [
      "\u001b[0;30;43m\u001b[1mValue of items sold with / without shipping specified\u001b[0m\u001b[0m\n"
     ]
    },
    {
     "data": {
      "text/plain": [
       "shipping_provided\n",
       "no    4,121,641.370\n",
       "yes   6,306,452.993\n",
       "Name: est_price, dtype: float64"
      ]
     },
     "execution_count": 10,
     "metadata": {},
     "output_type": "execute_result"
    }
   ],
   "source": [
    "shippingValue = df.groupby('shipping_provided')['est_price'].sum()\n",
    "shippingValue.to_csv(r'Data\\r5c2 - ShippingValue.csv')\n",
    "\n",
    "printf(\"Value of items sold with / without shipping specified\")\n",
    "shippingValue"
   ]
  },
  {
   "cell_type": "markdown",
   "metadata": {
    "heading_collapsed": true
   },
   "source": [
    "## Most expensive items (by merchants)"
   ]
  },
  {
   "cell_type": "code",
   "execution_count": 11,
   "metadata": {
    "ExecuteTime": {
     "end_time": "2020-12-29T08:34:27.887103Z",
     "start_time": "2020-12-29T08:34:27.858349Z"
    },
    "hidden": true
   },
   "outputs": [
    {
     "name": "stdout",
     "output_type": "stream",
     "text": [
      "\u001b[0;30;43m\u001b[1mMost expensive item sold\u001b[0m\u001b[0m\n"
     ]
    },
    {
     "data": {
      "text/plain": [
       "prices_merchant\n",
       "walmart   6,999.990\n",
       "bestbuy   5,999.990\n",
       "others    4,999.990\n",
       "bhp       4,496.990\n",
       "Name: est_price, dtype: float64"
      ]
     },
     "execution_count": 11,
     "metadata": {},
     "output_type": "execute_result"
    }
   ],
   "source": [
    "most_expensive = df.groupby('prices_merchant')['est_price'].max().sort_values(ascending=False)\n",
    "most_expensive.to_csv(r'Data\\r6c1 - Xitems.csv')\n",
    "\n",
    "printf(\"Most expensive item sold\")\n",
    "most_expensive"
   ]
  },
  {
   "cell_type": "markdown",
   "metadata": {
    "heading_collapsed": true
   },
   "source": [
    "## Samsung TVs (by merchants)"
   ]
  },
  {
   "cell_type": "code",
   "execution_count": 12,
   "metadata": {
    "ExecuteTime": {
     "end_time": "2020-12-29T08:34:27.933260Z",
     "start_time": "2020-12-29T08:34:27.888101Z"
    },
    "hidden": true
   },
   "outputs": [
    {
     "name": "stdout",
     "output_type": "stream",
     "text": [
      "\u001b[0;30;43m\u001b[1mSamsung TVs\u001b[0m\u001b[0m\n"
     ]
    },
    {
     "data": {
      "text/plain": [
       "name                                                                                         prices_merchant\n",
       "Samsung - 49 Class - LED - MU6290 Series - 2160p - Smart - 4K Ultra HD TV with HDR           bestbuy             599.990\n",
       "                                                                                             bhp                 597.990\n",
       "                                                                                             others              599.990\n",
       "                                                                                             walmart             597.990\n",
       "Samsung - 49 Class - LED - Q6F Series - 2160p - Smart - 4K UHD TV with HDR                   bestbuy             899.990\n",
       "                                                                                             bhp               1,299.990\n",
       "                                                                                             others            1,297.990\n",
       "                                                                                             walmart           1,299.990\n",
       "Samsung - 55 Class - LED - Curved - MU6490 Series - 2160p - Smart - 4K Ultra HD TV with HDR  bestbuy             799.990\n",
       "                                                                                             bhp               1,197.990\n",
       "                                                                                             others              799.990\n",
       "                                                                                             walmart           1,399.990\n",
       "Samsung - 55 Class - LED - Curved - Q7C Series - 2160p - Smart - 4K UHD TV with HDR          bestbuy           2,199.990\n",
       "                                                                                             bhp               2,997.990\n",
       "                                                                                             others            2,997.990\n",
       "                                                                                             walmart           3,699.990\n",
       "Samsung - 55 Class - LED - Q8F Series - 2160p - Smart - 4K UHD TV with HDR                   bestbuy           2,199.990\n",
       "                                                                                             bhp               2,197.990\n",
       "                                                                                             walmart           2,599.990\n",
       "Samsung - 65 Class - LED - Curved - MU7500 Series - 2160p - Smart - 4K UHD TV with HDR       bestbuy           1,499.990\n",
       "                                                                                             bhp               1,897.990\n",
       "                                                                                             others            1,797.990\n",
       "Samsung - 65 Class - LED - MU6290 Series - 2160p - Smart - 4K Ultra HD TV with HDR           bestbuy           5,999.990\n",
       "                                                                                             bhp               1,397.990\n",
       "                                                                                             others            1,129.990\n",
       "                                                                                             walmart           6,999.990\n",
       "Samsung - 65 Class - LED - MU7000 Series - 2160p - Smart - 4K UHD TV with HDR                bestbuy           1,499.990\n",
       "                                                                                             bhp               1,697.990\n",
       "                                                                                             others            1,597.990\n",
       "                                                                                             walmart           2,099.000\n",
       "Samsung - 65 Class - LED - Q7F Series - 2160p - Smart - 4K UHD TV with HDR                   bestbuy           2,599.990\n",
       "                                                                                             bhp               2,597.990\n",
       "                                                                                             walmart           3,099.990\n",
       "Samsung 55 Class 4K (2160P) Smart LED TV (UN55KU7000)                                        bestbuy           1,199.990\n",
       "                                                                                             others            2,399.990\n",
       "Name: est_price, dtype: float64"
      ]
     },
     "execution_count": 12,
     "metadata": {},
     "output_type": "execute_result"
    }
   ],
   "source": [
    "df.name = df.name.str.replace('\"', \"\")\n",
    "samsung = df.query(\"brand == 'Samsung'\")\n",
    "samsung_tv = samsung[samsung['name'].str.contains(\"TV\", na = False) & samsung['name'].str.contains(\"Class\", na = False)\n",
    "                     & samsung['name'].str.contains(\"4K\", na = False) & samsung['name'].str.contains(\"Samsung\", na = False)] \n",
    "samsung_tv_grouped = samsung_tv.groupby(['name', 'prices_merchant'])['est_price'].max()\n",
    "\n",
    "printf(\"Samsung TVs\")\n",
    "samsung_tv_grouped"
   ]
  },
  {
   "cell_type": "code",
   "execution_count": 13,
   "metadata": {
    "ExecuteTime": {
     "end_time": "2020-12-29T08:34:27.948960Z",
     "start_time": "2020-12-29T08:34:27.933997Z"
    },
    "hidden": true
   },
   "outputs": [],
   "source": [
    "#drop items that are not sold by all 4 merchants\n",
    "samsung_tv_grouped.drop(labels=['Samsung 55 Class 4K (2160P) Smart LED TV (UN55KU7000)', \n",
    "                                'Samsung - 65 Class - LED - Q7F Series - 2160p - Smart - 4K UHD TV with HDR',\n",
    "                                'Samsung - 65 Class - LED - Curved - MU7500 Series - 2160p - Smart - 4K UHD TV with HDR', \n",
    "                                'Samsung - 55 Class - LED - Q8F Series - 2160p - Smart - 4K UHD TV with HDR'], inplace=True)"
   ]
  },
  {
   "cell_type": "code",
   "execution_count": 14,
   "metadata": {
    "ExecuteTime": {
     "end_time": "2020-12-29T08:34:27.979879Z",
     "start_time": "2020-12-29T08:34:27.949957Z"
    },
    "hidden": true
   },
   "outputs": [
    {
     "data": {
      "text/html": [
       "<div>\n",
       "<style scoped>\n",
       "    .dataframe tbody tr th:only-of-type {\n",
       "        vertical-align: middle;\n",
       "    }\n",
       "\n",
       "    .dataframe tbody tr th {\n",
       "        vertical-align: top;\n",
       "    }\n",
       "\n",
       "    .dataframe thead th {\n",
       "        text-align: right;\n",
       "    }\n",
       "</style>\n",
       "<table border=\"1\" class=\"dataframe\">\n",
       "  <thead>\n",
       "    <tr style=\"text-align: right;\">\n",
       "      <th></th>\n",
       "      <th>name</th>\n",
       "      <th>prices_merchant</th>\n",
       "      <th>est_price</th>\n",
       "    </tr>\n",
       "  </thead>\n",
       "  <tbody>\n",
       "    <tr>\n",
       "      <th>0</th>\n",
       "      <td>49 Class MU6290 Series</td>\n",
       "      <td>bestbuy</td>\n",
       "      <td>599.990</td>\n",
       "    </tr>\n",
       "    <tr>\n",
       "      <th>1</th>\n",
       "      <td>49 Class MU6290 Series</td>\n",
       "      <td>bhp</td>\n",
       "      <td>597.990</td>\n",
       "    </tr>\n",
       "    <tr>\n",
       "      <th>2</th>\n",
       "      <td>49 Class MU6290 Series</td>\n",
       "      <td>others</td>\n",
       "      <td>599.990</td>\n",
       "    </tr>\n",
       "    <tr>\n",
       "      <th>3</th>\n",
       "      <td>49 Class MU6290 Series</td>\n",
       "      <td>walmart</td>\n",
       "      <td>597.990</td>\n",
       "    </tr>\n",
       "    <tr>\n",
       "      <th>4</th>\n",
       "      <td>49 Class Q6F Series</td>\n",
       "      <td>bestbuy</td>\n",
       "      <td>899.990</td>\n",
       "    </tr>\n",
       "    <tr>\n",
       "      <th>5</th>\n",
       "      <td>49 Class Q6F Series</td>\n",
       "      <td>bhp</td>\n",
       "      <td>1,299.990</td>\n",
       "    </tr>\n",
       "    <tr>\n",
       "      <th>6</th>\n",
       "      <td>49 Class Q6F Series</td>\n",
       "      <td>others</td>\n",
       "      <td>1,297.990</td>\n",
       "    </tr>\n",
       "    <tr>\n",
       "      <th>7</th>\n",
       "      <td>49 Class Q6F Series</td>\n",
       "      <td>walmart</td>\n",
       "      <td>1,299.990</td>\n",
       "    </tr>\n",
       "    <tr>\n",
       "      <th>8</th>\n",
       "      <td>55 Class Curved  MU6490 Series</td>\n",
       "      <td>bestbuy</td>\n",
       "      <td>799.990</td>\n",
       "    </tr>\n",
       "    <tr>\n",
       "      <th>9</th>\n",
       "      <td>55 Class Curved  MU6490 Series</td>\n",
       "      <td>bhp</td>\n",
       "      <td>1,197.990</td>\n",
       "    </tr>\n",
       "    <tr>\n",
       "      <th>10</th>\n",
       "      <td>55 Class Curved  MU6490 Series</td>\n",
       "      <td>others</td>\n",
       "      <td>799.990</td>\n",
       "    </tr>\n",
       "    <tr>\n",
       "      <th>11</th>\n",
       "      <td>55 Class Curved  MU6490 Series</td>\n",
       "      <td>walmart</td>\n",
       "      <td>1,399.990</td>\n",
       "    </tr>\n",
       "    <tr>\n",
       "      <th>12</th>\n",
       "      <td>55 Class Curved  Q7C Series</td>\n",
       "      <td>bestbuy</td>\n",
       "      <td>2,199.990</td>\n",
       "    </tr>\n",
       "    <tr>\n",
       "      <th>13</th>\n",
       "      <td>55 Class Curved  Q7C Series</td>\n",
       "      <td>bhp</td>\n",
       "      <td>2,997.990</td>\n",
       "    </tr>\n",
       "    <tr>\n",
       "      <th>14</th>\n",
       "      <td>55 Class Curved  Q7C Series</td>\n",
       "      <td>others</td>\n",
       "      <td>2,997.990</td>\n",
       "    </tr>\n",
       "    <tr>\n",
       "      <th>15</th>\n",
       "      <td>55 Class Curved  Q7C Series</td>\n",
       "      <td>walmart</td>\n",
       "      <td>3,699.990</td>\n",
       "    </tr>\n",
       "    <tr>\n",
       "      <th>16</th>\n",
       "      <td>65 Class MU6290 Series</td>\n",
       "      <td>bestbuy</td>\n",
       "      <td>5,999.990</td>\n",
       "    </tr>\n",
       "    <tr>\n",
       "      <th>17</th>\n",
       "      <td>65 Class MU6290 Series</td>\n",
       "      <td>bhp</td>\n",
       "      <td>1,397.990</td>\n",
       "    </tr>\n",
       "    <tr>\n",
       "      <th>18</th>\n",
       "      <td>65 Class MU6290 Series</td>\n",
       "      <td>others</td>\n",
       "      <td>1,129.990</td>\n",
       "    </tr>\n",
       "    <tr>\n",
       "      <th>19</th>\n",
       "      <td>65 Class MU6290 Series</td>\n",
       "      <td>walmart</td>\n",
       "      <td>6,999.990</td>\n",
       "    </tr>\n",
       "    <tr>\n",
       "      <th>20</th>\n",
       "      <td>65 Class MU7000 Series</td>\n",
       "      <td>bestbuy</td>\n",
       "      <td>1,499.990</td>\n",
       "    </tr>\n",
       "    <tr>\n",
       "      <th>21</th>\n",
       "      <td>65 Class MU7000 Series</td>\n",
       "      <td>bhp</td>\n",
       "      <td>1,697.990</td>\n",
       "    </tr>\n",
       "    <tr>\n",
       "      <th>22</th>\n",
       "      <td>65 Class MU7000 Series</td>\n",
       "      <td>others</td>\n",
       "      <td>1,597.990</td>\n",
       "    </tr>\n",
       "    <tr>\n",
       "      <th>23</th>\n",
       "      <td>65 Class MU7000 Series</td>\n",
       "      <td>walmart</td>\n",
       "      <td>2,099.000</td>\n",
       "    </tr>\n",
       "  </tbody>\n",
       "</table>\n",
       "</div>"
      ],
      "text/plain": [
       "                              name prices_merchant  est_price\n",
       "0           49 Class MU6290 Series         bestbuy    599.990\n",
       "1           49 Class MU6290 Series             bhp    597.990\n",
       "2           49 Class MU6290 Series          others    599.990\n",
       "3           49 Class MU6290 Series         walmart    597.990\n",
       "4              49 Class Q6F Series         bestbuy    899.990\n",
       "5              49 Class Q6F Series             bhp  1,299.990\n",
       "6              49 Class Q6F Series          others  1,297.990\n",
       "7              49 Class Q6F Series         walmart  1,299.990\n",
       "8   55 Class Curved  MU6490 Series         bestbuy    799.990\n",
       "9   55 Class Curved  MU6490 Series             bhp  1,197.990\n",
       "10  55 Class Curved  MU6490 Series          others    799.990\n",
       "11  55 Class Curved  MU6490 Series         walmart  1,399.990\n",
       "12     55 Class Curved  Q7C Series         bestbuy  2,199.990\n",
       "13     55 Class Curved  Q7C Series             bhp  2,997.990\n",
       "14     55 Class Curved  Q7C Series          others  2,997.990\n",
       "15     55 Class Curved  Q7C Series         walmart  3,699.990\n",
       "16          65 Class MU6290 Series         bestbuy  5,999.990\n",
       "17          65 Class MU6290 Series             bhp  1,397.990\n",
       "18          65 Class MU6290 Series          others  1,129.990\n",
       "19          65 Class MU6290 Series         walmart  6,999.990\n",
       "20          65 Class MU7000 Series         bestbuy  1,499.990\n",
       "21          65 Class MU7000 Series             bhp  1,697.990\n",
       "22          65 Class MU7000 Series          others  1,597.990\n",
       "23          65 Class MU7000 Series         walmart  2,099.000"
      ]
     },
     "execution_count": 14,
     "metadata": {},
     "output_type": "execute_result"
    }
   ],
   "source": [
    "#easy way to convert series for more opeations\n",
    "samsung_tv_grouped.to_csv(r'Data\\temp.csv')\n",
    "samsung_tv_grouped_df = pd.read_csv(r'Data\\temp.csv', encoding = \"ISO-8859-1\")\n",
    "\n",
    "#shorten item name for easier presentation in chart\n",
    "samsung_tv_grouped_df.name = samsung_tv_grouped_df.name.str.replace(\"Samsung\", \"\")\n",
    "samsung_tv_grouped_df.name = samsung_tv_grouped_df.name.str.replace(\"LED\", \"\") \n",
    "samsung_tv_grouped_df.name = samsung_tv_grouped_df.name.str.replace(\"4K\", \"\")\n",
    "samsung_tv_grouped_df.name = samsung_tv_grouped_df.name.str.replace(\"Smart\", \"\")\n",
    "samsung_tv_grouped_df.name = samsung_tv_grouped_df.name.str.replace(\"TV with HDR\", \"\")\n",
    "samsung_tv_grouped_df.name = samsung_tv_grouped_df.name.str.replace(\"2160p\", \"\")\n",
    "samsung_tv_grouped_df.name = samsung_tv_grouped_df.name.str.replace(\"UHD\", \"\")\n",
    "samsung_tv_grouped_df.name = samsung_tv_grouped_df.name.str.replace(\"Ultra HD\", \"\")\n",
    "samsung_tv_grouped_df.name = samsung_tv_grouped_df.name.str.replace(\"-\", \"\")\n",
    "samsung_tv_grouped_df.name = samsung_tv_grouped_df.name.str.replace(\"    \", \" \")\n",
    "samsung_tv_grouped_df.name = samsung_tv_grouped_df.name.str.strip()\n",
    "\n",
    "samsung_tv_grouped_df.to_csv(r'Data\\r3c1 - SamsungTV.csv', index = False)\n",
    "samsung_tv_grouped_df"
   ]
  },
  {
   "cell_type": "markdown",
   "metadata": {
    "heading_collapsed": true
   },
   "source": [
    "## Macbook Pro and iMac (by merchants)"
   ]
  },
  {
   "cell_type": "code",
   "execution_count": 15,
   "metadata": {
    "ExecuteTime": {
     "end_time": "2020-12-29T08:34:28.027472Z",
     "start_time": "2020-12-29T08:34:27.981872Z"
    },
    "hidden": true
   },
   "outputs": [
    {
     "name": "stdout",
     "output_type": "stream",
     "text": [
      "\u001b[0;30;43m\u001b[1mMacbook and iMac\u001b[0m\u001b[0m\n"
     ]
    },
    {
     "data": {
      "text/plain": [
       "name                                                                                                            prices_merchant\n",
       "12 MacBook (Mid 2017, Gold)                                                                                     bestbuy           1,599.990\n",
       "                                                                                                                bhp               1,569.000\n",
       "15.4 MacBook Pro with Touch Bar (Late 2016, Space Gray)                                                         bestbuy           2,799.990\n",
       "                                                                                                                bhp               2,878.000\n",
       "                                                                                                                others            2,604.690\n",
       "                                                                                                                walmart           3,544.540\n",
       "21.5 iMac with Retina 4K Display (Mid 2017)                                                                     bestbuy           1,499.990\n",
       "                                                                                                                bhp               1,499.000\n",
       "                                                                                                                others            2,085.390\n",
       "                                                                                                                walmart           1,461.650\n",
       "27 iMac with Retina 5K Display (Mid 2017)                                                                       bestbuy           1,999.990\n",
       "                                                                                                                bhp               1,999.000\n",
       "Apple - MacBook Pro?? - 13 Display - Intel Core i5 - 8 GB Memory - 512GB Flash Storage (Latest Model) - Silver  bestbuy           1,999.990\n",
       "                                                                                                                bhp               1,999.000\n",
       "                                                                                                                others            1,999.000\n",
       "                                                                                                                walmart           2,227.460\n",
       "Apple MacBook - 12 - Core m5 - 8 GB RAM - 512 GB flash storage - English                                        bestbuy           1,599.990\n",
       "                                                                                                                bhp                 999.950\n",
       "                                                                                                                others            1,547.990\n",
       "Apple MacBook Pro with Touch Bar - 13.3 - Core i5 - 8 GB RAM - 512 GB SSD - English                             bestbuy           1,999.990\n",
       "                                                                                                                bhp               1,519.950\n",
       "                                                                                                                others            1,799.990\n",
       "SeeThru Hard Shell Case for 13 MacBook Pro (Clear)                                                              bestbuy              19.990\n",
       "                                                                                                                bhp                  43.600\n",
       "                                                                                                                others               39.220\n",
       "Vectros Bumper for 13 MacBook Pro Retina (Black)                                                                bestbuy              59.990\n",
       "                                                                                                                bhp                  59.950\n",
       "kate spade new york - Glitter Sleeve for 13 Apple?? MacBook?? - Rose Gold                                       bestbuy              69.990\n",
       "Name: est_price, dtype: float64"
      ]
     },
     "execution_count": 15,
     "metadata": {},
     "output_type": "execute_result"
    }
   ],
   "source": [
    "mac = df[df['name'].str.contains(\"MacBook\", na = False) | df['name'].str.contains(\"iMac\", na = False) ]\n",
    "mac_grouped = mac.groupby(['name', 'prices_merchant'])['est_price'].max()\n",
    "\n",
    "printf(\"Macbook and iMac\")\n",
    "mac_grouped"
   ]
  },
  {
   "cell_type": "code",
   "execution_count": 16,
   "metadata": {
    "ExecuteTime": {
     "end_time": "2020-12-29T08:34:28.043464Z",
     "start_time": "2020-12-29T08:34:28.029468Z"
    },
    "hidden": true
   },
   "outputs": [],
   "source": [
    "#concentrate on 4 items\n",
    "mac_grouped.drop(labels=['12 MacBook (Mid 2017, Gold)',\n",
    "                '27 iMac with Retina 5K Display (Mid 2017)',\n",
    "                'Apple MacBook - 12 - Core m5 - 8 GB RAM - 512 GB flash storage - English', \n",
    "                'SeeThru Hard Shell Case for 13 MacBook Pro (Clear)',\n",
    "                'Vectros Bumper for 13 MacBook Pro Retina (Black)', \n",
    "                'kate spade new york - Glitter Sleeve for 13 Apple?? MacBook?? - Rose Gold'], inplace=True)"
   ]
  },
  {
   "cell_type": "code",
   "execution_count": 17,
   "metadata": {
    "ExecuteTime": {
     "end_time": "2020-12-29T08:34:28.075406Z",
     "start_time": "2020-12-29T08:34:28.044426Z"
    },
    "hidden": true
   },
   "outputs": [
    {
     "data": {
      "text/html": [
       "<div>\n",
       "<style scoped>\n",
       "    .dataframe tbody tr th:only-of-type {\n",
       "        vertical-align: middle;\n",
       "    }\n",
       "\n",
       "    .dataframe tbody tr th {\n",
       "        vertical-align: top;\n",
       "    }\n",
       "\n",
       "    .dataframe thead th {\n",
       "        text-align: right;\n",
       "    }\n",
       "</style>\n",
       "<table border=\"1\" class=\"dataframe\">\n",
       "  <thead>\n",
       "    <tr style=\"text-align: right;\">\n",
       "      <th></th>\n",
       "      <th>name</th>\n",
       "      <th>prices_merchant</th>\n",
       "      <th>est_price</th>\n",
       "    </tr>\n",
       "  </thead>\n",
       "  <tbody>\n",
       "    <tr>\n",
       "      <th>0</th>\n",
       "      <td>15.4 MacBook Pro with Touch Bar (Late 2016 Spa...</td>\n",
       "      <td>bestbuy</td>\n",
       "      <td>2,799.990</td>\n",
       "    </tr>\n",
       "    <tr>\n",
       "      <th>1</th>\n",
       "      <td>15.4 MacBook Pro with Touch Bar (Late 2016 Spa...</td>\n",
       "      <td>bhp</td>\n",
       "      <td>2,878.000</td>\n",
       "    </tr>\n",
       "    <tr>\n",
       "      <th>2</th>\n",
       "      <td>15.4 MacBook Pro with Touch Bar (Late 2016 Spa...</td>\n",
       "      <td>others</td>\n",
       "      <td>2,604.690</td>\n",
       "    </tr>\n",
       "    <tr>\n",
       "      <th>3</th>\n",
       "      <td>15.4 MacBook Pro with Touch Bar (Late 2016 Spa...</td>\n",
       "      <td>walmart</td>\n",
       "      <td>3,544.540</td>\n",
       "    </tr>\n",
       "    <tr>\n",
       "      <th>4</th>\n",
       "      <td>21.5 iMac with Retina 4K Display (Mid 2017)</td>\n",
       "      <td>bestbuy</td>\n",
       "      <td>1,499.990</td>\n",
       "    </tr>\n",
       "    <tr>\n",
       "      <th>5</th>\n",
       "      <td>21.5 iMac with Retina 4K Display (Mid 2017)</td>\n",
       "      <td>bhp</td>\n",
       "      <td>1,499.000</td>\n",
       "    </tr>\n",
       "    <tr>\n",
       "      <th>6</th>\n",
       "      <td>21.5 iMac with Retina 4K Display (Mid 2017)</td>\n",
       "      <td>others</td>\n",
       "      <td>2,085.390</td>\n",
       "    </tr>\n",
       "    <tr>\n",
       "      <th>7</th>\n",
       "      <td>21.5 iMac with Retina 4K Display (Mid 2017)</td>\n",
       "      <td>walmart</td>\n",
       "      <td>1,461.650</td>\n",
       "    </tr>\n",
       "    <tr>\n",
       "      <th>8</th>\n",
       "      <td>MacBook Pro?? 13 Display Intel Core i5 8 GB Me...</td>\n",
       "      <td>bestbuy</td>\n",
       "      <td>1,999.990</td>\n",
       "    </tr>\n",
       "    <tr>\n",
       "      <th>9</th>\n",
       "      <td>MacBook Pro?? 13 Display Intel Core i5 8 GB Me...</td>\n",
       "      <td>bhp</td>\n",
       "      <td>1,999.000</td>\n",
       "    </tr>\n",
       "    <tr>\n",
       "      <th>10</th>\n",
       "      <td>MacBook Pro?? 13 Display Intel Core i5 8 GB Me...</td>\n",
       "      <td>others</td>\n",
       "      <td>1,999.000</td>\n",
       "    </tr>\n",
       "    <tr>\n",
       "      <th>11</th>\n",
       "      <td>MacBook Pro?? 13 Display Intel Core i5 8 GB Me...</td>\n",
       "      <td>walmart</td>\n",
       "      <td>2,227.460</td>\n",
       "    </tr>\n",
       "    <tr>\n",
       "      <th>12</th>\n",
       "      <td>MacBook Pro with Touch Bar 13.3 Core i5 8 GB R...</td>\n",
       "      <td>bestbuy</td>\n",
       "      <td>1,999.990</td>\n",
       "    </tr>\n",
       "    <tr>\n",
       "      <th>13</th>\n",
       "      <td>MacBook Pro with Touch Bar 13.3 Core i5 8 GB R...</td>\n",
       "      <td>bhp</td>\n",
       "      <td>1,519.950</td>\n",
       "    </tr>\n",
       "    <tr>\n",
       "      <th>14</th>\n",
       "      <td>MacBook Pro with Touch Bar 13.3 Core i5 8 GB R...</td>\n",
       "      <td>others</td>\n",
       "      <td>1,799.990</td>\n",
       "    </tr>\n",
       "    <tr>\n",
       "      <th>15</th>\n",
       "      <td>Apple MacBook Pro with Touch Bar - 13.3 - Core...</td>\n",
       "      <td>walmart</td>\n",
       "      <td>0.000</td>\n",
       "    </tr>\n",
       "  </tbody>\n",
       "</table>\n",
       "</div>"
      ],
      "text/plain": [
       "                                                 name prices_merchant  \\\n",
       "0   15.4 MacBook Pro with Touch Bar (Late 2016 Spa...         bestbuy   \n",
       "1   15.4 MacBook Pro with Touch Bar (Late 2016 Spa...             bhp   \n",
       "2   15.4 MacBook Pro with Touch Bar (Late 2016 Spa...          others   \n",
       "3   15.4 MacBook Pro with Touch Bar (Late 2016 Spa...         walmart   \n",
       "4         21.5 iMac with Retina 4K Display (Mid 2017)         bestbuy   \n",
       "5         21.5 iMac with Retina 4K Display (Mid 2017)             bhp   \n",
       "6         21.5 iMac with Retina 4K Display (Mid 2017)          others   \n",
       "7         21.5 iMac with Retina 4K Display (Mid 2017)         walmart   \n",
       "8   MacBook Pro?? 13 Display Intel Core i5 8 GB Me...         bestbuy   \n",
       "9   MacBook Pro?? 13 Display Intel Core i5 8 GB Me...             bhp   \n",
       "10  MacBook Pro?? 13 Display Intel Core i5 8 GB Me...          others   \n",
       "11  MacBook Pro?? 13 Display Intel Core i5 8 GB Me...         walmart   \n",
       "12  MacBook Pro with Touch Bar 13.3 Core i5 8 GB R...         bestbuy   \n",
       "13  MacBook Pro with Touch Bar 13.3 Core i5 8 GB R...             bhp   \n",
       "14  MacBook Pro with Touch Bar 13.3 Core i5 8 GB R...          others   \n",
       "15  Apple MacBook Pro with Touch Bar - 13.3 - Core...         walmart   \n",
       "\n",
       "    est_price  \n",
       "0   2,799.990  \n",
       "1   2,878.000  \n",
       "2   2,604.690  \n",
       "3   3,544.540  \n",
       "4   1,499.990  \n",
       "5   1,499.000  \n",
       "6   2,085.390  \n",
       "7   1,461.650  \n",
       "8   1,999.990  \n",
       "9   1,999.000  \n",
       "10  1,999.000  \n",
       "11  2,227.460  \n",
       "12  1,999.990  \n",
       "13  1,519.950  \n",
       "14  1,799.990  \n",
       "15      0.000  "
      ]
     },
     "execution_count": 17,
     "metadata": {},
     "output_type": "execute_result"
    }
   ],
   "source": [
    "#easy way to convert series for more opeations\n",
    "mac_grouped.to_csv(r'Data\\temp.csv')\n",
    "mac_grouped_df = pd.read_csv(r'Data\\temp.csv', encoding = \"ISO-8859-1\")\n",
    "\n",
    "#shorten item name for easier presentation in chart\n",
    "mac_grouped_df.name = mac_grouped_df.name.str.replace(\"Apple\", \"\")\n",
    "mac_grouped_df.name = mac_grouped_df.name.str.replace(\"-\", \"\")\n",
    "#v.impt cos JS in the web based visualisation will take it as another column in str.split\n",
    "mac_grouped_df.name = mac_grouped_df.name.str.replace(\",\", \"\") \n",
    "mac_grouped_df.name = mac_grouped_df.name.str.replace(\"  \", \" \")\n",
    "mac_grouped_df.name = mac_grouped_df.name.str.strip()\n",
    "\n",
    "#fill up 1 missing row\n",
    "mac_grouped_df.loc[15] = [\"Apple MacBook Pro with Touch Bar - 13.3 - Core i5 - 8 GB RAM - 512 GB SSD - English\", \"walmart\", 0]\n",
    "\n",
    "mac_grouped_df.to_csv(r'Data\\r3c2 - Apple.csv', index = False)\n",
    "mac_grouped_df"
   ]
  },
  {
   "cell_type": "markdown",
   "metadata": {
    "heading_collapsed": true
   },
   "source": [
    "## Compare price movement (for items in bestbuy)"
   ]
  },
  {
   "cell_type": "code",
   "execution_count": 18,
   "metadata": {
    "ExecuteTime": {
     "end_time": "2020-12-29T08:34:28.107294Z",
     "start_time": "2020-12-29T08:34:28.078338Z"
    },
    "hidden": true
   },
   "outputs": [
    {
     "name": "stdout",
     "output_type": "stream",
     "text": [
      "\u001b[0;30;43m\u001b[1mSelected data that we'll be using:\u001b[0m\u001b[0m\n"
     ]
    },
    {
     "data": {
      "text/html": [
       "<div>\n",
       "<style scoped>\n",
       "    .dataframe tbody tr th:only-of-type {\n",
       "        vertical-align: middle;\n",
       "    }\n",
       "\n",
       "    .dataframe tbody tr th {\n",
       "        vertical-align: top;\n",
       "    }\n",
       "\n",
       "    .dataframe thead th {\n",
       "        text-align: right;\n",
       "    }\n",
       "</style>\n",
       "<table border=\"1\" class=\"dataframe\">\n",
       "  <thead>\n",
       "    <tr style=\"text-align: right;\">\n",
       "      <th></th>\n",
       "      <th>name</th>\n",
       "      <th>date</th>\n",
       "      <th>est_price</th>\n",
       "    </tr>\n",
       "  </thead>\n",
       "  <tbody>\n",
       "    <tr>\n",
       "      <th>0</th>\n",
       "      <td>1080p Day/Night PTZ Speed Dome Camera with 5 t...</td>\n",
       "      <td>2017-07-26</td>\n",
       "      <td>478.990</td>\n",
       "    </tr>\n",
       "    <tr>\n",
       "      <th>1</th>\n",
       "      <td>1080p Day/Night PTZ Speed Dome Camera with 5 t...</td>\n",
       "      <td>2017-07-31</td>\n",
       "      <td>478.990</td>\n",
       "    </tr>\n",
       "    <tr>\n",
       "      <th>2</th>\n",
       "      <td>1080p Day/Night PTZ Speed Dome Camera with 5 t...</td>\n",
       "      <td>2017-08-01</td>\n",
       "      <td>478.990</td>\n",
       "    </tr>\n",
       "    <tr>\n",
       "      <th>3</th>\n",
       "      <td>1080p Day/Night PTZ Speed Dome Camera with 5 t...</td>\n",
       "      <td>2017-08-12</td>\n",
       "      <td>478.990</td>\n",
       "    </tr>\n",
       "    <tr>\n",
       "      <th>4</th>\n",
       "      <td>1080p Day/Night PTZ Speed Dome Camera with 5 t...</td>\n",
       "      <td>2017-08-22</td>\n",
       "      <td>478.990</td>\n",
       "    </tr>\n",
       "  </tbody>\n",
       "</table>\n",
       "</div>"
      ],
      "text/plain": [
       "                                                name       date  est_price\n",
       "0  1080p Day/Night PTZ Speed Dome Camera with 5 t... 2017-07-26    478.990\n",
       "1  1080p Day/Night PTZ Speed Dome Camera with 5 t... 2017-07-31    478.990\n",
       "2  1080p Day/Night PTZ Speed Dome Camera with 5 t... 2017-08-01    478.990\n",
       "3  1080p Day/Night PTZ Speed Dome Camera with 5 t... 2017-08-12    478.990\n",
       "4  1080p Day/Night PTZ Speed Dome Camera with 5 t... 2017-08-22    478.990"
      ]
     },
     "execution_count": 18,
     "metadata": {},
     "output_type": "execute_result"
    }
   ],
   "source": [
    "bestbuy = df.query(\"prices_merchant == 'bestbuy'\")\n",
    "bestbuy = bestbuy[['name', 'date', 'est_price']]\n",
    "bestbuy = bestbuy.sort_values([\"name\", \"date\"], ascending = (True, True))\n",
    "bestbuy.reset_index(inplace=True)\n",
    "#bestbuy.index = np.arange(1, len(bestbuy) + 1)\n",
    "bestbuy.drop(['index'], axis=1, inplace=True)\n",
    "\n",
    "printf(\"Selected data that we'll be using:\")\n",
    "bestbuy.head()"
   ]
  },
  {
   "cell_type": "code",
   "execution_count": 19,
   "metadata": {
    "ExecuteTime": {
     "end_time": "2020-12-29T08:34:28.519686Z",
     "start_time": "2020-12-29T08:34:28.108257Z"
    },
    "hidden": true
   },
   "outputs": [],
   "source": [
    "bestbuyColumnsList = ['name', 'date', 'earliest_price', 'last_price']\n",
    "data = []\n",
    "i = 0\n",
    "sameRow = True\n",
    "\n",
    "while i < len(bestbuy):\n",
    "    sameRow = True\n",
    "    thisRow = bestbuy.iloc[i].values\n",
    "    j = 1\n",
    "\n",
    "    while sameRow:\n",
    "        if (i+j) < len(bestbuy): #check last row of df\n",
    "            if bestbuy.name.iloc[i] == bestbuy.name.iloc[i+j]:\n",
    "                if (i+j) == len(bestbuy) - 1: #if last row of df is same, insert\n",
    "                    thisRow = np.append(thisRow, bestbuy.est_price.iloc[i+j])\n",
    "                    data.append(thisRow)\n",
    "                j += 1\n",
    "            else:\n",
    "                thisRow = np.append(thisRow, bestbuy.est_price.iloc[i+j])\n",
    "                data.append(thisRow)\n",
    "                i = i + j\n",
    "                sameRow = False\n",
    "        else:\n",
    "            i = i + j\n",
    "            sameRow = False\n",
    "\n",
    "bestbuy_new = pd.DataFrame(data, columns = bestbuyColumnsList)"
   ]
  },
  {
   "cell_type": "code",
   "execution_count": 20,
   "metadata": {
    "ExecuteTime": {
     "end_time": "2020-12-29T08:34:28.550837Z",
     "start_time": "2020-12-29T08:34:28.521683Z"
    },
    "hidden": true
   },
   "outputs": [
    {
     "name": "stdout",
     "output_type": "stream",
     "text": [
      "\u001b[0;30;43m\u001b[1mPrice variability for items in bestbuy:\u001b[0m\u001b[0m\n"
     ]
    },
    {
     "data": {
      "text/html": [
       "<div>\n",
       "<style scoped>\n",
       "    .dataframe tbody tr th:only-of-type {\n",
       "        vertical-align: middle;\n",
       "    }\n",
       "\n",
       "    .dataframe tbody tr th {\n",
       "        vertical-align: top;\n",
       "    }\n",
       "\n",
       "    .dataframe thead th {\n",
       "        text-align: right;\n",
       "    }\n",
       "</style>\n",
       "<table border=\"1\" class=\"dataframe\">\n",
       "  <thead>\n",
       "    <tr style=\"text-align: right;\">\n",
       "      <th></th>\n",
       "      <th>name</th>\n",
       "      <th>date</th>\n",
       "      <th>earliest_price</th>\n",
       "      <th>last_price</th>\n",
       "      <th>price_change_percent</th>\n",
       "    </tr>\n",
       "  </thead>\n",
       "  <tbody>\n",
       "    <tr>\n",
       "      <th>83</th>\n",
       "      <td>Apple MacBook - 12 - Core m5 - 8 GB RAM - 512 ...</td>\n",
       "      <td>2017-03-04</td>\n",
       "      <td>1.000</td>\n",
       "      <td>1,999.990</td>\n",
       "      <td>1,998.990</td>\n",
       "    </tr>\n",
       "    <tr>\n",
       "      <th>193</th>\n",
       "      <td>Details About Alienware 13 R3 Aw13r3/13.3 Fhd/...</td>\n",
       "      <td>2017-03-04</td>\n",
       "      <td>1.000</td>\n",
       "      <td>1,899.990</td>\n",
       "      <td>1,898.990</td>\n",
       "    </tr>\n",
       "    <tr>\n",
       "      <th>760</th>\n",
       "      <td>XB550AP EXTRA BASS Headphones (Black)</td>\n",
       "      <td>2017-05-01</td>\n",
       "      <td>59.990</td>\n",
       "      <td>4,999.990</td>\n",
       "      <td>82.347</td>\n",
       "    </tr>\n",
       "    <tr>\n",
       "      <th>6</th>\n",
       "      <td>14 Checkpoint Friendly Laptop Case</td>\n",
       "      <td>2017-03-04</td>\n",
       "      <td>33.990</td>\n",
       "      <td>2,799.990</td>\n",
       "      <td>81.377</td>\n",
       "    </tr>\n",
       "    <tr>\n",
       "      <th>620</th>\n",
       "      <td>Sennheiser - CX 3.00 Earbud Headphones - Red</td>\n",
       "      <td>2015-05-04</td>\n",
       "      <td>35.990</td>\n",
       "      <td>2,199.990</td>\n",
       "      <td>60.128</td>\n",
       "    </tr>\n",
       "    <tr>\n",
       "      <th>...</th>\n",
       "      <td>...</td>\n",
       "      <td>...</td>\n",
       "      <td>...</td>\n",
       "      <td>...</td>\n",
       "      <td>...</td>\n",
       "    </tr>\n",
       "    <tr>\n",
       "      <th>759</th>\n",
       "      <td>X900F-Series 75-Class HDR UHD Smart LED TV</td>\n",
       "      <td>2018-05-25</td>\n",
       "      <td>3,499.990</td>\n",
       "      <td>59.990</td>\n",
       "      <td>-0.983</td>\n",
       "    </tr>\n",
       "    <tr>\n",
       "      <th>82</th>\n",
       "      <td>Apple MNF72LL/A 61W USB-C Power Adapter</td>\n",
       "      <td>2017-03-04</td>\n",
       "      <td>69.000</td>\n",
       "      <td>1.000</td>\n",
       "      <td>-0.986</td>\n",
       "    </tr>\n",
       "    <tr>\n",
       "      <th>694</th>\n",
       "      <td>SunBriteTV - Veranda Series - 43 Class - LED -...</td>\n",
       "      <td>2017-03-04</td>\n",
       "      <td>1,499.980</td>\n",
       "      <td>12.990</td>\n",
       "      <td>-0.991</td>\n",
       "    </tr>\n",
       "    <tr>\n",
       "      <th>84</th>\n",
       "      <td>Apple MacBook Pro with Touch Bar - 13.3 - Core...</td>\n",
       "      <td>2017-03-03</td>\n",
       "      <td>1,999.990</td>\n",
       "      <td>12.450</td>\n",
       "      <td>-0.994</td>\n",
       "    </tr>\n",
       "    <tr>\n",
       "      <th>192</th>\n",
       "      <td>Details About Aiwa Exos9 Portable Bluetooth Sp...</td>\n",
       "      <td>2016-08-06</td>\n",
       "      <td>299.990</td>\n",
       "      <td>1.000</td>\n",
       "      <td>-0.997</td>\n",
       "    </tr>\n",
       "  </tbody>\n",
       "</table>\n",
       "<p>808 rows × 5 columns</p>\n",
       "</div>"
      ],
      "text/plain": [
       "                                                  name       date  \\\n",
       "83   Apple MacBook - 12 - Core m5 - 8 GB RAM - 512 ... 2017-03-04   \n",
       "193  Details About Alienware 13 R3 Aw13r3/13.3 Fhd/... 2017-03-04   \n",
       "760              XB550AP EXTRA BASS Headphones (Black) 2017-05-01   \n",
       "6                   14 Checkpoint Friendly Laptop Case 2017-03-04   \n",
       "620       Sennheiser - CX 3.00 Earbud Headphones - Red 2015-05-04   \n",
       "..                                                 ...        ...   \n",
       "759         X900F-Series 75-Class HDR UHD Smart LED TV 2018-05-25   \n",
       "82             Apple MNF72LL/A 61W USB-C Power Adapter 2017-03-04   \n",
       "694  SunBriteTV - Veranda Series - 43 Class - LED -... 2017-03-04   \n",
       "84   Apple MacBook Pro with Touch Bar - 13.3 - Core... 2017-03-03   \n",
       "192  Details About Aiwa Exos9 Portable Bluetooth Sp... 2016-08-06   \n",
       "\n",
       "     earliest_price  last_price  price_change_percent  \n",
       "83            1.000   1,999.990             1,998.990  \n",
       "193           1.000   1,899.990             1,898.990  \n",
       "760          59.990   4,999.990                82.347  \n",
       "6            33.990   2,799.990                81.377  \n",
       "620          35.990   2,199.990                60.128  \n",
       "..              ...         ...                   ...  \n",
       "759       3,499.990      59.990                -0.983  \n",
       "82           69.000       1.000                -0.986  \n",
       "694       1,499.980      12.990                -0.991  \n",
       "84        1,999.990      12.450                -0.994  \n",
       "192         299.990       1.000                -0.997  \n",
       "\n",
       "[808 rows x 5 columns]"
      ]
     },
     "execution_count": 20,
     "metadata": {},
     "output_type": "execute_result"
    }
   ],
   "source": [
    "bestbuy_new['price_change_percent'] = (bestbuy_new.last_price - bestbuy_new.earliest_price) / bestbuy_new.earliest_price\n",
    "bestbuy_new = bestbuy_new.sort_values(\"price_change_percent\", ascending = False)\n",
    "printf(\"Price variability for items in bestbuy:\")\n",
    "bestbuy_new"
   ]
  },
  {
   "cell_type": "code",
   "execution_count": 21,
   "metadata": {
    "ExecuteTime": {
     "end_time": "2020-12-29T08:34:28.566018Z",
     "start_time": "2020-12-29T08:34:28.552602Z"
    },
    "hidden": true
   },
   "outputs": [
    {
     "name": "stdout",
     "output_type": "stream",
     "text": [
      "\u001b[0;30;43m\u001b[1mDropping the first 2 rows since it is obviously outliers or bad data:\u001b[0m\u001b[0m\n"
     ]
    }
   ],
   "source": [
    "printf(\"Dropping the first 2 rows since it is obviously outliers or bad data:\")\n",
    "bestbuy_new.drop([83,193], inplace=True)"
   ]
  },
  {
   "cell_type": "code",
   "execution_count": 22,
   "metadata": {
    "ExecuteTime": {
     "end_time": "2020-12-29T08:34:28.581996Z",
     "start_time": "2020-12-29T08:34:28.567017Z"
    },
    "hidden": true
   },
   "outputs": [
    {
     "name": "stdout",
     "output_type": "stream",
     "text": [
      "\u001b[0;30;43m\u001b[1mRestricting to % change more than 20:\u001b[0m\u001b[0m\n"
     ]
    }
   ],
   "source": [
    "printf(\"Restricting to % change more than 20:\")\n",
    "bestbuy_new = bestbuy_new.query(\"price_change_percent>20\")"
   ]
  },
  {
   "cell_type": "code",
   "execution_count": 23,
   "metadata": {
    "ExecuteTime": {
     "end_time": "2020-12-29T08:34:28.613550Z",
     "start_time": "2020-12-29T08:34:28.585968Z"
    },
    "hidden": true
   },
   "outputs": [
    {
     "name": "stderr",
     "output_type": "stream",
     "text": [
      "C:\\Users\\markc\\AppData\\Roaming\\Python\\Python37\\site-packages\\pandas\\core\\generic.py:5170: SettingWithCopyWarning: \n",
      "A value is trying to be set on a copy of a slice from a DataFrame.\n",
      "Try using .loc[row_indexer,col_indexer] = value instead\n",
      "\n",
      "See the caveats in the documentation: https://pandas.pydata.org/pandas-docs/stable/user_guide/indexing.html#returning-a-view-versus-a-copy\n",
      "  self[name] = value\n",
      "C:\\Users\\markc\\AppData\\Roaming\\Python\\Python37\\site-packages\\pandas\\core\\frame.py:4174: SettingWithCopyWarning: \n",
      "A value is trying to be set on a copy of a slice from a DataFrame\n",
      "\n",
      "See the caveats in the documentation: https://pandas.pydata.org/pandas-docs/stable/user_guide/indexing.html#returning-a-view-versus-a-copy\n",
      "  errors=errors,\n"
     ]
    }
   ],
   "source": [
    "#v.impt cos JS in the web based visualisation will take it as another column in str.split\n",
    "bestbuy_new.name = bestbuy_new.name.str.replace(\",\", \"\") \n",
    "#drop the un-needed columns\n",
    "bestbuy_new.drop(['date', 'earliest_price', 'last_price'], axis=1, inplace=True)\n",
    "bestbuy_new.to_csv(r'Data\\r4 - PriceChange.csv', float_format = \"%0.1f\", index = False)"
   ]
  },
  {
   "cell_type": "markdown",
   "metadata": {
    "heading_collapsed": true
   },
   "source": [
    "## Seasonality"
   ]
  },
  {
   "cell_type": "code",
   "execution_count": 24,
   "metadata": {
    "ExecuteTime": {
     "end_time": "2020-12-29T08:34:28.675424Z",
     "start_time": "2020-12-29T08:34:28.615580Z"
    },
    "hidden": true
   },
   "outputs": [
    {
     "name": "stdout",
     "output_type": "stream",
     "text": [
      "\u001b[0;30;43m\u001b[1mFocusing on iMac/Macbook and headphones for the last 2 years:\u001b[0m\u001b[0m\n"
     ]
    },
    {
     "data": {
      "text/html": [
       "<div>\n",
       "<style scoped>\n",
       "    .dataframe tbody tr th:only-of-type {\n",
       "        vertical-align: middle;\n",
       "    }\n",
       "\n",
       "    .dataframe tbody tr th {\n",
       "        vertical-align: top;\n",
       "    }\n",
       "\n",
       "    .dataframe thead th {\n",
       "        text-align: right;\n",
       "    }\n",
       "</style>\n",
       "<table border=\"1\" class=\"dataframe\">\n",
       "  <thead>\n",
       "    <tr style=\"text-align: right;\">\n",
       "      <th></th>\n",
       "      <th>name</th>\n",
       "      <th>est_price</th>\n",
       "      <th>month</th>\n",
       "    </tr>\n",
       "  </thead>\n",
       "  <tbody>\n",
       "    <tr>\n",
       "      <th>330</th>\n",
       "      <td>Air-Fi Runaway AF32 Stereo Bluetooth Wireless ...</td>\n",
       "      <td>49.000</td>\n",
       "      <td>8</td>\n",
       "    </tr>\n",
       "    <tr>\n",
       "      <th>331</th>\n",
       "      <td>Air-Fi Runaway AF32 Stereo Bluetooth Wireless ...</td>\n",
       "      <td>49.000</td>\n",
       "      <td>8</td>\n",
       "    </tr>\n",
       "    <tr>\n",
       "      <th>332</th>\n",
       "      <td>Air-Fi Runaway AF32 Stereo Bluetooth Wireless ...</td>\n",
       "      <td>49.000</td>\n",
       "      <td>8</td>\n",
       "    </tr>\n",
       "    <tr>\n",
       "      <th>333</th>\n",
       "      <td>Air-Fi Runaway AF32 Stereo Bluetooth Wireless ...</td>\n",
       "      <td>49.000</td>\n",
       "      <td>11</td>\n",
       "    </tr>\n",
       "    <tr>\n",
       "      <th>334</th>\n",
       "      <td>Air-Fi Runaway AF32 Stereo Bluetooth Wireless ...</td>\n",
       "      <td>49.000</td>\n",
       "      <td>12</td>\n",
       "    </tr>\n",
       "    <tr>\n",
       "      <th>...</th>\n",
       "      <td>...</td>\n",
       "      <td>...</td>\n",
       "      <td>...</td>\n",
       "    </tr>\n",
       "    <tr>\n",
       "      <th>22163</th>\n",
       "      <td>V-MODA - Crossfade Wireless Headphones - Gunme...</td>\n",
       "      <td>199.990</td>\n",
       "      <td>1</td>\n",
       "    </tr>\n",
       "    <tr>\n",
       "      <th>22164</th>\n",
       "      <td>V-MODA - Crossfade Wireless Headphones - Gunme...</td>\n",
       "      <td>199.990</td>\n",
       "      <td>4</td>\n",
       "    </tr>\n",
       "    <tr>\n",
       "      <th>22165</th>\n",
       "      <td>V-MODA - Crossfade Wireless Headphones - Gunme...</td>\n",
       "      <td>199.990</td>\n",
       "      <td>5</td>\n",
       "    </tr>\n",
       "    <tr>\n",
       "      <th>22166</th>\n",
       "      <td>V-MODA - Crossfade Wireless Headphones - Gunme...</td>\n",
       "      <td>199.990</td>\n",
       "      <td>6</td>\n",
       "    </tr>\n",
       "    <tr>\n",
       "      <th>22167</th>\n",
       "      <td>V-MODA - Crossfade Wireless Headphones - Gunme...</td>\n",
       "      <td>199.980</td>\n",
       "      <td>5</td>\n",
       "    </tr>\n",
       "  </tbody>\n",
       "</table>\n",
       "<p>2306 rows × 3 columns</p>\n",
       "</div>"
      ],
      "text/plain": [
       "                                                    name  est_price  month\n",
       "330    Air-Fi Runaway AF32 Stereo Bluetooth Wireless ...     49.000      8\n",
       "331    Air-Fi Runaway AF32 Stereo Bluetooth Wireless ...     49.000      8\n",
       "332    Air-Fi Runaway AF32 Stereo Bluetooth Wireless ...     49.000      8\n",
       "333    Air-Fi Runaway AF32 Stereo Bluetooth Wireless ...     49.000     11\n",
       "334    Air-Fi Runaway AF32 Stereo Bluetooth Wireless ...     49.000     12\n",
       "...                                                  ...        ...    ...\n",
       "22163  V-MODA - Crossfade Wireless Headphones - Gunme...    199.990      1\n",
       "22164  V-MODA - Crossfade Wireless Headphones - Gunme...    199.990      4\n",
       "22165  V-MODA - Crossfade Wireless Headphones - Gunme...    199.990      5\n",
       "22166  V-MODA - Crossfade Wireless Headphones - Gunme...    199.990      6\n",
       "22167  V-MODA - Crossfade Wireless Headphones - Gunme...    199.980      5\n",
       "\n",
       "[2306 rows x 3 columns]"
      ]
     },
     "execution_count": 24,
     "metadata": {},
     "output_type": "execute_result"
    }
   ],
   "source": [
    "printf(\"Focusing on iMac/Macbook and headphones for the last 2 years:\")\n",
    "season = df[ df['name'].str.contains(\"MacBook\", na = False) | df['name'].str.contains(\"iMac\", na = False) | \n",
    "        df['name'].str.contains(\"Headphone\", na = False) ]\n",
    "season = season.query(\"year == 2017 | year == 2018\" )\n",
    "season = season[['name', 'est_price', 'month']]\n",
    "season"
   ]
  },
  {
   "cell_type": "code",
   "execution_count": 25,
   "metadata": {
    "ExecuteTime": {
     "end_time": "2020-12-29T08:34:28.691377Z",
     "start_time": "2020-12-29T08:34:28.678378Z"
    },
    "hidden": true
   },
   "outputs": [],
   "source": [
    "#simplify item name\n",
    "season.name = season.name.apply(lambda x: 'Headphone' if 'Headphone' in x else 'iMac and MacBook')"
   ]
  },
  {
   "cell_type": "code",
   "execution_count": 26,
   "metadata": {
    "ExecuteTime": {
     "end_time": "2020-12-29T08:34:28.723259Z",
     "start_time": "2020-12-29T08:34:28.693340Z"
    },
    "hidden": true
   },
   "outputs": [
    {
     "name": "stdout",
     "output_type": "stream",
     "text": [
      "\u001b[0;30;43m\u001b[1mSales by month for the items\u001b[0m\u001b[0m\n"
     ]
    },
    {
     "data": {
      "text/plain": [
       "month  name            \n",
       "1      Headphone           32,903.567\n",
       "       iMac and MacBook    25,187.430\n",
       "2      Headphone              446.990\n",
       "       iMac and MacBook     1,497.990\n",
       "3      Headphone           55,703.585\n",
       "       iMac and MacBook    84,138.580\n",
       "4      Headphone           15,620.650\n",
       "       iMac and MacBook    32,293.120\n",
       "5      Headphone           62,860.710\n",
       "       iMac and MacBook   103,294.450\n",
       "6      Headphone           49,214.142\n",
       "       iMac and MacBook    45,223.770\n",
       "7      Headphone           45,103.664\n",
       "       iMac and MacBook    83,808.560\n",
       "8      Headphone           94,519.940\n",
       "       iMac and MacBook   167,060.690\n",
       "9      Headphone           34,509.743\n",
       "       iMac and MacBook    34,999.190\n",
       "10     Headphone           31,673.212\n",
       "       iMac and MacBook    34,866.730\n",
       "11     Headphone           22,898.017\n",
       "       iMac and MacBook    33,703.310\n",
       "12     Headphone           58,716.465\n",
       "       iMac and MacBook    54,915.700\n",
       "Name: est_price, dtype: float64"
      ]
     },
     "execution_count": 26,
     "metadata": {},
     "output_type": "execute_result"
    }
   ],
   "source": [
    "seasonvalue_grouped = season.groupby(['month', 'name'])['est_price'].sum()\n",
    "seasonvalue_grouped.to_csv(r'Data\\temp.csv', float_format = \"%0.0f\")\n",
    "\n",
    "printf(\"Sales by month for the items\")\n",
    "seasonvalue_grouped"
   ]
  },
  {
   "cell_type": "code",
   "execution_count": 27,
   "metadata": {
    "ExecuteTime": {
     "end_time": "2020-12-29T08:34:28.770130Z",
     "start_time": "2020-12-29T08:34:28.727248Z"
    },
    "hidden": true
   },
   "outputs": [
    {
     "data": {
      "text/html": [
       "<div>\n",
       "<style scoped>\n",
       "    .dataframe tbody tr th:only-of-type {\n",
       "        vertical-align: middle;\n",
       "    }\n",
       "\n",
       "    .dataframe tbody tr th {\n",
       "        vertical-align: top;\n",
       "    }\n",
       "\n",
       "    .dataframe thead th {\n",
       "        text-align: right;\n",
       "    }\n",
       "</style>\n",
       "<table border=\"1\" class=\"dataframe\">\n",
       "  <thead>\n",
       "    <tr style=\"text-align: right;\">\n",
       "      <th></th>\n",
       "      <th>month</th>\n",
       "      <th>name</th>\n",
       "      <th>est_price</th>\n",
       "    </tr>\n",
       "  </thead>\n",
       "  <tbody>\n",
       "    <tr>\n",
       "      <th>0</th>\n",
       "      <td>Jan</td>\n",
       "      <td>Headphone</td>\n",
       "      <td>32904</td>\n",
       "    </tr>\n",
       "    <tr>\n",
       "      <th>1</th>\n",
       "      <td>Jan</td>\n",
       "      <td>iMac and MacBook</td>\n",
       "      <td>25187</td>\n",
       "    </tr>\n",
       "    <tr>\n",
       "      <th>2</th>\n",
       "      <td>Feb</td>\n",
       "      <td>Headphone</td>\n",
       "      <td>447</td>\n",
       "    </tr>\n",
       "    <tr>\n",
       "      <th>3</th>\n",
       "      <td>Feb</td>\n",
       "      <td>iMac and MacBook</td>\n",
       "      <td>1498</td>\n",
       "    </tr>\n",
       "    <tr>\n",
       "      <th>4</th>\n",
       "      <td>Mar</td>\n",
       "      <td>Headphone</td>\n",
       "      <td>55704</td>\n",
       "    </tr>\n",
       "    <tr>\n",
       "      <th>5</th>\n",
       "      <td>Mar</td>\n",
       "      <td>iMac and MacBook</td>\n",
       "      <td>84139</td>\n",
       "    </tr>\n",
       "    <tr>\n",
       "      <th>6</th>\n",
       "      <td>Apr</td>\n",
       "      <td>Headphone</td>\n",
       "      <td>15621</td>\n",
       "    </tr>\n",
       "    <tr>\n",
       "      <th>7</th>\n",
       "      <td>Apr</td>\n",
       "      <td>iMac and MacBook</td>\n",
       "      <td>32293</td>\n",
       "    </tr>\n",
       "    <tr>\n",
       "      <th>8</th>\n",
       "      <td>May</td>\n",
       "      <td>Headphone</td>\n",
       "      <td>62861</td>\n",
       "    </tr>\n",
       "    <tr>\n",
       "      <th>9</th>\n",
       "      <td>May</td>\n",
       "      <td>iMac and MacBook</td>\n",
       "      <td>103294</td>\n",
       "    </tr>\n",
       "    <tr>\n",
       "      <th>10</th>\n",
       "      <td>Jun</td>\n",
       "      <td>Headphone</td>\n",
       "      <td>49214</td>\n",
       "    </tr>\n",
       "    <tr>\n",
       "      <th>11</th>\n",
       "      <td>Jun</td>\n",
       "      <td>iMac and MacBook</td>\n",
       "      <td>45224</td>\n",
       "    </tr>\n",
       "    <tr>\n",
       "      <th>12</th>\n",
       "      <td>Jul</td>\n",
       "      <td>Headphone</td>\n",
       "      <td>45104</td>\n",
       "    </tr>\n",
       "    <tr>\n",
       "      <th>13</th>\n",
       "      <td>Jul</td>\n",
       "      <td>iMac and MacBook</td>\n",
       "      <td>83809</td>\n",
       "    </tr>\n",
       "    <tr>\n",
       "      <th>14</th>\n",
       "      <td>Aug</td>\n",
       "      <td>Headphone</td>\n",
       "      <td>94520</td>\n",
       "    </tr>\n",
       "    <tr>\n",
       "      <th>15</th>\n",
       "      <td>Aug</td>\n",
       "      <td>iMac and MacBook</td>\n",
       "      <td>167061</td>\n",
       "    </tr>\n",
       "    <tr>\n",
       "      <th>16</th>\n",
       "      <td>Sep</td>\n",
       "      <td>Headphone</td>\n",
       "      <td>34510</td>\n",
       "    </tr>\n",
       "    <tr>\n",
       "      <th>17</th>\n",
       "      <td>Sep</td>\n",
       "      <td>iMac and MacBook</td>\n",
       "      <td>34999</td>\n",
       "    </tr>\n",
       "    <tr>\n",
       "      <th>18</th>\n",
       "      <td>Oct</td>\n",
       "      <td>Headphone</td>\n",
       "      <td>31673</td>\n",
       "    </tr>\n",
       "    <tr>\n",
       "      <th>19</th>\n",
       "      <td>Oct</td>\n",
       "      <td>iMac and MacBook</td>\n",
       "      <td>34867</td>\n",
       "    </tr>\n",
       "    <tr>\n",
       "      <th>20</th>\n",
       "      <td>Nov</td>\n",
       "      <td>Headphone</td>\n",
       "      <td>22898</td>\n",
       "    </tr>\n",
       "    <tr>\n",
       "      <th>21</th>\n",
       "      <td>Nov</td>\n",
       "      <td>iMac and MacBook</td>\n",
       "      <td>33703</td>\n",
       "    </tr>\n",
       "    <tr>\n",
       "      <th>22</th>\n",
       "      <td>Dec</td>\n",
       "      <td>Headphone</td>\n",
       "      <td>58716</td>\n",
       "    </tr>\n",
       "    <tr>\n",
       "      <th>23</th>\n",
       "      <td>Dec</td>\n",
       "      <td>iMac and MacBook</td>\n",
       "      <td>54916</td>\n",
       "    </tr>\n",
       "  </tbody>\n",
       "</table>\n",
       "</div>"
      ],
      "text/plain": [
       "   month              name  est_price\n",
       "0    Jan         Headphone      32904\n",
       "1    Jan  iMac and MacBook      25187\n",
       "2    Feb         Headphone        447\n",
       "3    Feb  iMac and MacBook       1498\n",
       "4    Mar         Headphone      55704\n",
       "5    Mar  iMac and MacBook      84139\n",
       "6    Apr         Headphone      15621\n",
       "7    Apr  iMac and MacBook      32293\n",
       "8    May         Headphone      62861\n",
       "9    May  iMac and MacBook     103294\n",
       "10   Jun         Headphone      49214\n",
       "11   Jun  iMac and MacBook      45224\n",
       "12   Jul         Headphone      45104\n",
       "13   Jul  iMac and MacBook      83809\n",
       "14   Aug         Headphone      94520\n",
       "15   Aug  iMac and MacBook     167061\n",
       "16   Sep         Headphone      34510\n",
       "17   Sep  iMac and MacBook      34999\n",
       "18   Oct         Headphone      31673\n",
       "19   Oct  iMac and MacBook      34867\n",
       "20   Nov         Headphone      22898\n",
       "21   Nov  iMac and MacBook      33703\n",
       "22   Dec         Headphone      58716\n",
       "23   Dec  iMac and MacBook      54916"
      ]
     },
     "execution_count": 27,
     "metadata": {},
     "output_type": "execute_result"
    }
   ],
   "source": [
    "seasonvalue = pd.read_csv(r'Data\\temp.csv', encoding = \"ISO-8859-1\")\n",
    "#change month integer to month\n",
    "import calendar\n",
    "seasonvalue['month'] = seasonvalue['month'].apply(lambda x: calendar.month_abbr[x])\n",
    "seasonvalue.to_csv(r'Data\\r2c2 - seasonalvalue.csv', float_format = \"%0.0f\", index=False)\n",
    "seasonvalue"
   ]
  },
  {
   "cell_type": "code",
   "execution_count": 28,
   "metadata": {
    "ExecuteTime": {
     "end_time": "2020-12-29T08:34:28.800050Z",
     "start_time": "2020-12-29T08:34:28.771128Z"
    },
    "hidden": true
   },
   "outputs": [
    {
     "name": "stdout",
     "output_type": "stream",
     "text": [
      "\u001b[0;30;43m\u001b[1mNo. of sales by month for the items\u001b[0m\u001b[0m\n"
     ]
    },
    {
     "data": {
      "text/plain": [
       "month  name            \n",
       "1      Headphone           120\n",
       "       iMac and MacBook     18\n",
       "2      Headphone             5\n",
       "       iMac and MacBook      1\n",
       "3      Headphone           200\n",
       "       iMac and MacBook     76\n",
       "4      Headphone            64\n",
       "       iMac and MacBook     18\n",
       "5      Headphone           242\n",
       "       iMac and MacBook     62\n",
       "6      Headphone           178\n",
       "       iMac and MacBook     30\n",
       "7      Headphone           111\n",
       "       iMac and MacBook     53\n",
       "8      Headphone           364\n",
       "       iMac and MacBook    115\n",
       "9      Headphone           129\n",
       "       iMac and MacBook     34\n",
       "10     Headphone           104\n",
       "       iMac and MacBook     22\n",
       "11     Headphone            95\n",
       "       iMac and MacBook     17\n",
       "12     Headphone           211\n",
       "       iMac and MacBook     37\n",
       "Name: name, dtype: int64"
      ]
     },
     "execution_count": 28,
     "metadata": {},
     "output_type": "execute_result"
    }
   ],
   "source": [
    "seasonitem_grouped = season.groupby(['month', 'name'])['name'].count()\n",
    "seasonitem_grouped.to_csv(r'Data\\temp.csv')\n",
    "\n",
    "printf(\"No. of sales by month for the items\")\n",
    "seasonitem_grouped"
   ]
  },
  {
   "cell_type": "code",
   "execution_count": 29,
   "metadata": {
    "ExecuteTime": {
     "end_time": "2020-12-29T08:34:28.830969Z",
     "start_time": "2020-12-29T08:34:28.802046Z"
    },
    "hidden": true
   },
   "outputs": [
    {
     "data": {
      "text/html": [
       "<div>\n",
       "<style scoped>\n",
       "    .dataframe tbody tr th:only-of-type {\n",
       "        vertical-align: middle;\n",
       "    }\n",
       "\n",
       "    .dataframe tbody tr th {\n",
       "        vertical-align: top;\n",
       "    }\n",
       "\n",
       "    .dataframe thead th {\n",
       "        text-align: right;\n",
       "    }\n",
       "</style>\n",
       "<table border=\"1\" class=\"dataframe\">\n",
       "  <thead>\n",
       "    <tr style=\"text-align: right;\">\n",
       "      <th></th>\n",
       "      <th>month</th>\n",
       "      <th>name</th>\n",
       "      <th>name.1</th>\n",
       "    </tr>\n",
       "  </thead>\n",
       "  <tbody>\n",
       "    <tr>\n",
       "      <th>0</th>\n",
       "      <td>Jan</td>\n",
       "      <td>Headphone</td>\n",
       "      <td>120</td>\n",
       "    </tr>\n",
       "    <tr>\n",
       "      <th>1</th>\n",
       "      <td>Jan</td>\n",
       "      <td>iMac and MacBook</td>\n",
       "      <td>18</td>\n",
       "    </tr>\n",
       "    <tr>\n",
       "      <th>2</th>\n",
       "      <td>Feb</td>\n",
       "      <td>Headphone</td>\n",
       "      <td>5</td>\n",
       "    </tr>\n",
       "    <tr>\n",
       "      <th>3</th>\n",
       "      <td>Feb</td>\n",
       "      <td>iMac and MacBook</td>\n",
       "      <td>1</td>\n",
       "    </tr>\n",
       "    <tr>\n",
       "      <th>4</th>\n",
       "      <td>Mar</td>\n",
       "      <td>Headphone</td>\n",
       "      <td>200</td>\n",
       "    </tr>\n",
       "    <tr>\n",
       "      <th>5</th>\n",
       "      <td>Mar</td>\n",
       "      <td>iMac and MacBook</td>\n",
       "      <td>76</td>\n",
       "    </tr>\n",
       "    <tr>\n",
       "      <th>6</th>\n",
       "      <td>Apr</td>\n",
       "      <td>Headphone</td>\n",
       "      <td>64</td>\n",
       "    </tr>\n",
       "    <tr>\n",
       "      <th>7</th>\n",
       "      <td>Apr</td>\n",
       "      <td>iMac and MacBook</td>\n",
       "      <td>18</td>\n",
       "    </tr>\n",
       "    <tr>\n",
       "      <th>8</th>\n",
       "      <td>May</td>\n",
       "      <td>Headphone</td>\n",
       "      <td>242</td>\n",
       "    </tr>\n",
       "    <tr>\n",
       "      <th>9</th>\n",
       "      <td>May</td>\n",
       "      <td>iMac and MacBook</td>\n",
       "      <td>62</td>\n",
       "    </tr>\n",
       "    <tr>\n",
       "      <th>10</th>\n",
       "      <td>Jun</td>\n",
       "      <td>Headphone</td>\n",
       "      <td>178</td>\n",
       "    </tr>\n",
       "    <tr>\n",
       "      <th>11</th>\n",
       "      <td>Jun</td>\n",
       "      <td>iMac and MacBook</td>\n",
       "      <td>30</td>\n",
       "    </tr>\n",
       "    <tr>\n",
       "      <th>12</th>\n",
       "      <td>Jul</td>\n",
       "      <td>Headphone</td>\n",
       "      <td>111</td>\n",
       "    </tr>\n",
       "    <tr>\n",
       "      <th>13</th>\n",
       "      <td>Jul</td>\n",
       "      <td>iMac and MacBook</td>\n",
       "      <td>53</td>\n",
       "    </tr>\n",
       "    <tr>\n",
       "      <th>14</th>\n",
       "      <td>Aug</td>\n",
       "      <td>Headphone</td>\n",
       "      <td>364</td>\n",
       "    </tr>\n",
       "    <tr>\n",
       "      <th>15</th>\n",
       "      <td>Aug</td>\n",
       "      <td>iMac and MacBook</td>\n",
       "      <td>115</td>\n",
       "    </tr>\n",
       "    <tr>\n",
       "      <th>16</th>\n",
       "      <td>Sep</td>\n",
       "      <td>Headphone</td>\n",
       "      <td>129</td>\n",
       "    </tr>\n",
       "    <tr>\n",
       "      <th>17</th>\n",
       "      <td>Sep</td>\n",
       "      <td>iMac and MacBook</td>\n",
       "      <td>34</td>\n",
       "    </tr>\n",
       "    <tr>\n",
       "      <th>18</th>\n",
       "      <td>Oct</td>\n",
       "      <td>Headphone</td>\n",
       "      <td>104</td>\n",
       "    </tr>\n",
       "    <tr>\n",
       "      <th>19</th>\n",
       "      <td>Oct</td>\n",
       "      <td>iMac and MacBook</td>\n",
       "      <td>22</td>\n",
       "    </tr>\n",
       "    <tr>\n",
       "      <th>20</th>\n",
       "      <td>Nov</td>\n",
       "      <td>Headphone</td>\n",
       "      <td>95</td>\n",
       "    </tr>\n",
       "    <tr>\n",
       "      <th>21</th>\n",
       "      <td>Nov</td>\n",
       "      <td>iMac and MacBook</td>\n",
       "      <td>17</td>\n",
       "    </tr>\n",
       "    <tr>\n",
       "      <th>22</th>\n",
       "      <td>Dec</td>\n",
       "      <td>Headphone</td>\n",
       "      <td>211</td>\n",
       "    </tr>\n",
       "    <tr>\n",
       "      <th>23</th>\n",
       "      <td>Dec</td>\n",
       "      <td>iMac and MacBook</td>\n",
       "      <td>37</td>\n",
       "    </tr>\n",
       "  </tbody>\n",
       "</table>\n",
       "</div>"
      ],
      "text/plain": [
       "   month              name  name.1\n",
       "0    Jan         Headphone     120\n",
       "1    Jan  iMac and MacBook      18\n",
       "2    Feb         Headphone       5\n",
       "3    Feb  iMac and MacBook       1\n",
       "4    Mar         Headphone     200\n",
       "5    Mar  iMac and MacBook      76\n",
       "6    Apr         Headphone      64\n",
       "7    Apr  iMac and MacBook      18\n",
       "8    May         Headphone     242\n",
       "9    May  iMac and MacBook      62\n",
       "10   Jun         Headphone     178\n",
       "11   Jun  iMac and MacBook      30\n",
       "12   Jul         Headphone     111\n",
       "13   Jul  iMac and MacBook      53\n",
       "14   Aug         Headphone     364\n",
       "15   Aug  iMac and MacBook     115\n",
       "16   Sep         Headphone     129\n",
       "17   Sep  iMac and MacBook      34\n",
       "18   Oct         Headphone     104\n",
       "19   Oct  iMac and MacBook      22\n",
       "20   Nov         Headphone      95\n",
       "21   Nov  iMac and MacBook      17\n",
       "22   Dec         Headphone     211\n",
       "23   Dec  iMac and MacBook      37"
      ]
     },
     "execution_count": 29,
     "metadata": {},
     "output_type": "execute_result"
    }
   ],
   "source": [
    "seasonitem = pd.read_csv(r'Data\\temp.csv', encoding = \"ISO-8859-1\")\n",
    "#change month integer to month\n",
    "seasonitem['month'] = seasonitem['month'].apply(lambda x: calendar.month_abbr[x])\n",
    "seasonitem.to_csv(r'Data\\r2c1 - seasonalitem.csv', float_format = \"%0.0f\", index=False)\n",
    "seasonitem"
   ]
  }
 ],
 "metadata": {
  "hide_input": false,
  "kernelspec": {
   "display_name": "Python 3",
   "language": "python",
   "name": "python3"
  },
  "language_info": {
   "codemirror_mode": {
    "name": "ipython",
    "version": 3
   },
   "file_extension": ".py",
   "mimetype": "text/x-python",
   "name": "python",
   "nbconvert_exporter": "python",
   "pygments_lexer": "ipython3",
   "version": "3.7.6"
  },
  "toc": {
   "base_numbering": 1,
   "nav_menu": {},
   "number_sections": true,
   "sideBar": true,
   "skip_h1_title": false,
   "title_cell": "Table of Contents",
   "title_sidebar": "Contents",
   "toc_cell": false,
   "toc_position": {},
   "toc_section_display": true,
   "toc_window_display": false
  }
 },
 "nbformat": 4,
 "nbformat_minor": 4
}
